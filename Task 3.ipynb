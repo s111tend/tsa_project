{
 "cells": [
  {
   "cell_type": "markdown",
   "id": "3f95eaf0",
   "metadata": {},
   "source": [
    "# Task 3: Analyze product semantics\n",
    "Our database contains information about numerical product ratings with text comments. I have heard that modern algorithms can read and understand these reviews. Let's implement the functionality to classify positive/negative comments and summarize the analytics. I'm interested in the correlation of text comments with a numerical rating (1-5), products with the best/worst reviews, and sellers who collect only negative feedback.\n",
    "I'd also like to highlight such an entity as price in the comment text so that the analytics department can review this information for competitors' prices."
   ]
  },
  {
   "cell_type": "code",
   "execution_count": 161,
   "id": "ba8c2090",
   "metadata": {},
   "outputs": [],
   "source": [
    "import numpy as np\n",
    "import pandas as pd\n",
    "import matplotlib.pyplot as plt\n",
    "import seaborn as sns\n",
    "\n",
    "from sklearn.feature_extraction.text import CountVectorizer, TfidfVectorizer\n",
    "from sklearn.model_selection import train_test_split\n",
    "from sklearn.linear_model import LogisticRegression\n",
    "from sklearn.ensemble import RandomForestClassifier, AdaBoostClassifier\n",
    "from sklearn.metrics import accuracy_score, f1_score, roc_auc_score, confusion_matrix, classification_report\n",
    "from sklearn.pipeline import Pipeline\n",
    "from sklearn.neural_network import MLPClassifier\n",
    "from sklearn.tree import DecisionTreeClassifier\n",
    "\n",
    "from lightgbm import LGBMClassifier\n",
    "\n",
    "import nltk\n",
    "import re\n",
    "import string\n",
    "from nltk import tokenize\n",
    "from nltk.tokenize import word_tokenize\n",
    "\n",
    "pd.set_option('display.max_columns', None)\n",
    "\n",
    "import warnings\n",
    "warnings.filterwarnings('ignore')\n",
    "\n",
    "from prepare import *"
   ]
  },
  {
   "cell_type": "code",
   "execution_count": 2,
   "id": "bec9c68f",
   "metadata": {},
   "outputs": [],
   "source": [
    "data_dir = 'S_Data/'\n",
    "dicts_dir = 'S_Data/dicts/'\n",
    "\n",
    "data = get_data(data_dir)\n",
    "dicts = get_data(dicts_dir, sep=';')"
   ]
  },
  {
   "cell_type": "code",
   "execution_count": 3,
   "id": "ca91261d",
   "metadata": {},
   "outputs": [],
   "source": [
    "df_reviews = data['order_reviews']\n",
    "df_orders = data['orders']\n",
    "df_order_items = data['order_items']\n",
    "df_products = data['products']"
   ]
  },
  {
   "cell_type": "markdown",
   "id": "fbad968f",
   "metadata": {},
   "source": [
    "# Data overview\n",
    "Let's look at the main features in recall-related data. Consider how we should present the final dataset:"
   ]
  },
  {
   "cell_type": "code",
   "execution_count": 4,
   "id": "1f64e00b",
   "metadata": {},
   "outputs": [
    {
     "data": {
      "text/html": [
       "<div>\n",
       "<style scoped>\n",
       "    .dataframe tbody tr th:only-of-type {\n",
       "        vertical-align: middle;\n",
       "    }\n",
       "\n",
       "    .dataframe tbody tr th {\n",
       "        vertical-align: top;\n",
       "    }\n",
       "\n",
       "    .dataframe thead th {\n",
       "        text-align: right;\n",
       "    }\n",
       "</style>\n",
       "<table border=\"1\" class=\"dataframe\">\n",
       "  <thead>\n",
       "    <tr style=\"text-align: right;\">\n",
       "      <th></th>\n",
       "      <th>review_id</th>\n",
       "      <th>order_id</th>\n",
       "      <th>review_score</th>\n",
       "      <th>review_comment_title</th>\n",
       "      <th>review_comment_message</th>\n",
       "      <th>review_creation_date</th>\n",
       "      <th>review_answer_timestamp</th>\n",
       "    </tr>\n",
       "  </thead>\n",
       "  <tbody>\n",
       "    <tr>\n",
       "      <th>0</th>\n",
       "      <td>7bc2406110b926393aa56f80a40eba40</td>\n",
       "      <td>73fc7af87114b39712e6da79b0a377eb</td>\n",
       "      <td>4</td>\n",
       "      <td>NaN</td>\n",
       "      <td>NaN</td>\n",
       "      <td>2018-01-18 00:00:00</td>\n",
       "      <td>2018-01-18 21:46:59</td>\n",
       "    </tr>\n",
       "    <tr>\n",
       "      <th>1</th>\n",
       "      <td>80e641a11e56f04c1ad469d5645fdfde</td>\n",
       "      <td>a548910a1c6147796b98fdf73dbeba33</td>\n",
       "      <td>5</td>\n",
       "      <td>NaN</td>\n",
       "      <td>NaN</td>\n",
       "      <td>2018-03-10 00:00:00</td>\n",
       "      <td>2018-03-11 03:05:13</td>\n",
       "    </tr>\n",
       "    <tr>\n",
       "      <th>2</th>\n",
       "      <td>228ce5500dc1d8e020d8d1322874b6f0</td>\n",
       "      <td>f9e4b658b201a9f2ecdecbb34bed034b</td>\n",
       "      <td>5</td>\n",
       "      <td>NaN</td>\n",
       "      <td>NaN</td>\n",
       "      <td>2018-02-17 00:00:00</td>\n",
       "      <td>2018-02-18 14:36:24</td>\n",
       "    </tr>\n",
       "    <tr>\n",
       "      <th>3</th>\n",
       "      <td>e64fb393e7b32834bb789ff8bb30750e</td>\n",
       "      <td>658677c97b385a9be170737859d3511b</td>\n",
       "      <td>5</td>\n",
       "      <td>NaN</td>\n",
       "      <td>Recebi bem antes do prazo estipulado.</td>\n",
       "      <td>2017-04-21 00:00:00</td>\n",
       "      <td>2017-04-21 22:02:06</td>\n",
       "    </tr>\n",
       "    <tr>\n",
       "      <th>4</th>\n",
       "      <td>f7c4243c7fe1938f181bec41a392bdeb</td>\n",
       "      <td>8e6bfb81e283fa7e4f11123a3fb894f1</td>\n",
       "      <td>5</td>\n",
       "      <td>NaN</td>\n",
       "      <td>Parabéns lojas lannister adorei comprar pela I...</td>\n",
       "      <td>2018-03-01 00:00:00</td>\n",
       "      <td>2018-03-02 10:26:53</td>\n",
       "    </tr>\n",
       "  </tbody>\n",
       "</table>\n",
       "</div>"
      ],
      "text/plain": [
       "                          review_id                          order_id  \\\n",
       "0  7bc2406110b926393aa56f80a40eba40  73fc7af87114b39712e6da79b0a377eb   \n",
       "1  80e641a11e56f04c1ad469d5645fdfde  a548910a1c6147796b98fdf73dbeba33   \n",
       "2  228ce5500dc1d8e020d8d1322874b6f0  f9e4b658b201a9f2ecdecbb34bed034b   \n",
       "3  e64fb393e7b32834bb789ff8bb30750e  658677c97b385a9be170737859d3511b   \n",
       "4  f7c4243c7fe1938f181bec41a392bdeb  8e6bfb81e283fa7e4f11123a3fb894f1   \n",
       "\n",
       "   review_score review_comment_title  \\\n",
       "0             4                  NaN   \n",
       "1             5                  NaN   \n",
       "2             5                  NaN   \n",
       "3             5                  NaN   \n",
       "4             5                  NaN   \n",
       "\n",
       "                              review_comment_message review_creation_date  \\\n",
       "0                                                NaN  2018-01-18 00:00:00   \n",
       "1                                                NaN  2018-03-10 00:00:00   \n",
       "2                                                NaN  2018-02-17 00:00:00   \n",
       "3              Recebi bem antes do prazo estipulado.  2017-04-21 00:00:00   \n",
       "4  Parabéns lojas lannister adorei comprar pela I...  2018-03-01 00:00:00   \n",
       "\n",
       "  review_answer_timestamp  \n",
       "0     2018-01-18 21:46:59  \n",
       "1     2018-03-11 03:05:13  \n",
       "2     2018-02-18 14:36:24  \n",
       "3     2017-04-21 22:02:06  \n",
       "4     2018-03-02 10:26:53  "
      ]
     },
     "execution_count": 4,
     "metadata": {},
     "output_type": "execute_result"
    }
   ],
   "source": [
    "df_reviews.head()"
   ]
  },
  {
   "cell_type": "markdown",
   "id": "3a00f162",
   "metadata": {},
   "source": [
    "We'll only need the columns review_score, review_comment_title, review_comment_message and also review_id as an index of dataframe."
   ]
  },
  {
   "cell_type": "code",
   "execution_count": 5,
   "id": "27e35d8b",
   "metadata": {},
   "outputs": [
    {
     "data": {
      "text/html": [
       "<div>\n",
       "<style scoped>\n",
       "    .dataframe tbody tr th:only-of-type {\n",
       "        vertical-align: middle;\n",
       "    }\n",
       "\n",
       "    .dataframe tbody tr th {\n",
       "        vertical-align: top;\n",
       "    }\n",
       "\n",
       "    .dataframe thead th {\n",
       "        text-align: right;\n",
       "    }\n",
       "</style>\n",
       "<table border=\"1\" class=\"dataframe\">\n",
       "  <thead>\n",
       "    <tr style=\"text-align: right;\">\n",
       "      <th></th>\n",
       "      <th>review_score</th>\n",
       "      <th>review_comment_title</th>\n",
       "      <th>review_comment_message</th>\n",
       "    </tr>\n",
       "    <tr>\n",
       "      <th>review_id</th>\n",
       "      <th></th>\n",
       "      <th></th>\n",
       "      <th></th>\n",
       "    </tr>\n",
       "  </thead>\n",
       "  <tbody>\n",
       "    <tr>\n",
       "      <th>7bc2406110b926393aa56f80a40eba40</th>\n",
       "      <td>4</td>\n",
       "      <td>NaN</td>\n",
       "      <td>NaN</td>\n",
       "    </tr>\n",
       "    <tr>\n",
       "      <th>80e641a11e56f04c1ad469d5645fdfde</th>\n",
       "      <td>5</td>\n",
       "      <td>NaN</td>\n",
       "      <td>NaN</td>\n",
       "    </tr>\n",
       "    <tr>\n",
       "      <th>228ce5500dc1d8e020d8d1322874b6f0</th>\n",
       "      <td>5</td>\n",
       "      <td>NaN</td>\n",
       "      <td>NaN</td>\n",
       "    </tr>\n",
       "    <tr>\n",
       "      <th>e64fb393e7b32834bb789ff8bb30750e</th>\n",
       "      <td>5</td>\n",
       "      <td>NaN</td>\n",
       "      <td>Recebi bem antes do prazo estipulado.</td>\n",
       "    </tr>\n",
       "    <tr>\n",
       "      <th>f7c4243c7fe1938f181bec41a392bdeb</th>\n",
       "      <td>5</td>\n",
       "      <td>NaN</td>\n",
       "      <td>Parabéns lojas lannister adorei comprar pela I...</td>\n",
       "    </tr>\n",
       "  </tbody>\n",
       "</table>\n",
       "</div>"
      ],
      "text/plain": [
       "                                  review_score review_comment_title  \\\n",
       "review_id                                                             \n",
       "7bc2406110b926393aa56f80a40eba40             4                  NaN   \n",
       "80e641a11e56f04c1ad469d5645fdfde             5                  NaN   \n",
       "228ce5500dc1d8e020d8d1322874b6f0             5                  NaN   \n",
       "e64fb393e7b32834bb789ff8bb30750e             5                  NaN   \n",
       "f7c4243c7fe1938f181bec41a392bdeb             5                  NaN   \n",
       "\n",
       "                                                             review_comment_message  \n",
       "review_id                                                                            \n",
       "7bc2406110b926393aa56f80a40eba40                                                NaN  \n",
       "80e641a11e56f04c1ad469d5645fdfde                                                NaN  \n",
       "228ce5500dc1d8e020d8d1322874b6f0                                                NaN  \n",
       "e64fb393e7b32834bb789ff8bb30750e              Recebi bem antes do prazo estipulado.  \n",
       "f7c4243c7fe1938f181bec41a392bdeb  Parabéns lojas lannister adorei comprar pela I...  "
      ]
     },
     "execution_count": 5,
     "metadata": {},
     "output_type": "execute_result"
    }
   ],
   "source": [
    "df = df_reviews[['review_id', 'review_score', 'review_comment_title', 'review_comment_message']].set_index('review_id')\n",
    "df.head()"
   ]
  },
  {
   "cell_type": "markdown",
   "id": "9af107f2",
   "metadata": {},
   "source": [
    "Let's look at the number of null values in each of the columns:"
   ]
  },
  {
   "cell_type": "code",
   "execution_count": 6,
   "id": "88f2f5ad",
   "metadata": {},
   "outputs": [
    {
     "data": {
      "image/png": "[encoded data removed]",
      "text/plain": [
       "<Figure size 600x600 with 2 Axes>"
      ]
     },
     "metadata": {},
     "output_type": "display_data"
    }
   ],
   "source": [
    "plt.figure(figsize=(6, 6))\n",
    "sns.heatmap(df.isnull(), cmap='viridis')\n",
    "plt.yticks([]);"
   ]
  },
  {
   "cell_type": "markdown",
   "id": "d222d63d",
   "metadata": {},
   "source": [
    "As we can see, a lot of people did not leave comments when evaluating products. When processing the data, it will be necessary to merge review_title and review_message and discard NaN values."
   ]
  },
  {
   "cell_type": "markdown",
   "id": "43232fc2",
   "metadata": {},
   "source": [
    "# Data preparation"
   ]
  },
  {
   "cell_type": "code",
   "execution_count": 77,
   "id": "0feef13a",
   "metadata": {},
   "outputs": [],
   "source": [
    "df.fillna('', inplace=True)\n",
    "df['text'] = df['review_comment_title'] + \" \" + df['review_comment_message']"
   ]
  },
  {
   "cell_type": "code",
   "execution_count": 78,
   "id": "315c81c6",
   "metadata": {},
   "outputs": [],
   "source": [
    "def score_to_categorical(score):\n",
    "    if score < 5/3:\n",
    "        return 'negative'\n",
    "    elif score > 10/3:\n",
    "        return 'positive'\n",
    "    else:\n",
    "        return 'neutral'"
   ]
  },
  {
   "cell_type": "code",
   "execution_count": 79,
   "id": "d542bcdc",
   "metadata": {},
   "outputs": [
    {
     "data": {
      "text/html": [
       "<div>\n",
       "<style scoped>\n",
       "    .dataframe tbody tr th:only-of-type {\n",
       "        vertical-align: middle;\n",
       "    }\n",
       "\n",
       "    .dataframe tbody tr th {\n",
       "        vertical-align: top;\n",
       "    }\n",
       "\n",
       "    .dataframe thead th {\n",
       "        text-align: right;\n",
       "    }\n",
       "</style>\n",
       "<table border=\"1\" class=\"dataframe\">\n",
       "  <thead>\n",
       "    <tr style=\"text-align: right;\">\n",
       "      <th></th>\n",
       "      <th>review_score</th>\n",
       "      <th>review_comment_title</th>\n",
       "      <th>review_comment_message</th>\n",
       "      <th>text</th>\n",
       "      <th>score_cat</th>\n",
       "    </tr>\n",
       "    <tr>\n",
       "      <th>review_id</th>\n",
       "      <th></th>\n",
       "      <th></th>\n",
       "      <th></th>\n",
       "      <th></th>\n",
       "      <th></th>\n",
       "    </tr>\n",
       "  </thead>\n",
       "  <tbody>\n",
       "    <tr>\n",
       "      <th>7bc2406110b926393aa56f80a40eba40</th>\n",
       "      <td>4</td>\n",
       "      <td></td>\n",
       "      <td></td>\n",
       "      <td></td>\n",
       "      <td>positive</td>\n",
       "    </tr>\n",
       "    <tr>\n",
       "      <th>80e641a11e56f04c1ad469d5645fdfde</th>\n",
       "      <td>5</td>\n",
       "      <td></td>\n",
       "      <td></td>\n",
       "      <td></td>\n",
       "      <td>positive</td>\n",
       "    </tr>\n",
       "    <tr>\n",
       "      <th>228ce5500dc1d8e020d8d1322874b6f0</th>\n",
       "      <td>5</td>\n",
       "      <td></td>\n",
       "      <td></td>\n",
       "      <td></td>\n",
       "      <td>positive</td>\n",
       "    </tr>\n",
       "    <tr>\n",
       "      <th>e64fb393e7b32834bb789ff8bb30750e</th>\n",
       "      <td>5</td>\n",
       "      <td></td>\n",
       "      <td>Recebi bem antes do prazo estipulado.</td>\n",
       "      <td>Recebi bem antes do prazo estipulado.</td>\n",
       "      <td>positive</td>\n",
       "    </tr>\n",
       "    <tr>\n",
       "      <th>f7c4243c7fe1938f181bec41a392bdeb</th>\n",
       "      <td>5</td>\n",
       "      <td></td>\n",
       "      <td>Parabéns lojas lannister adorei comprar pela I...</td>\n",
       "      <td>Parabéns lojas lannister adorei comprar pela ...</td>\n",
       "      <td>positive</td>\n",
       "    </tr>\n",
       "  </tbody>\n",
       "</table>\n",
       "</div>"
      ],
      "text/plain": [
       "                                  review_score review_comment_title  \\\n",
       "review_id                                                             \n",
       "7bc2406110b926393aa56f80a40eba40             4                        \n",
       "80e641a11e56f04c1ad469d5645fdfde             5                        \n",
       "228ce5500dc1d8e020d8d1322874b6f0             5                        \n",
       "e64fb393e7b32834bb789ff8bb30750e             5                        \n",
       "f7c4243c7fe1938f181bec41a392bdeb             5                        \n",
       "\n",
       "                                                             review_comment_message  \\\n",
       "review_id                                                                             \n",
       "7bc2406110b926393aa56f80a40eba40                                                      \n",
       "80e641a11e56f04c1ad469d5645fdfde                                                      \n",
       "228ce5500dc1d8e020d8d1322874b6f0                                                      \n",
       "e64fb393e7b32834bb789ff8bb30750e              Recebi bem antes do prazo estipulado.   \n",
       "f7c4243c7fe1938f181bec41a392bdeb  Parabéns lojas lannister adorei comprar pela I...   \n",
       "\n",
       "                                                                               text  \\\n",
       "review_id                                                                             \n",
       "7bc2406110b926393aa56f80a40eba40                                                      \n",
       "80e641a11e56f04c1ad469d5645fdfde                                                      \n",
       "228ce5500dc1d8e020d8d1322874b6f0                                                      \n",
       "e64fb393e7b32834bb789ff8bb30750e              Recebi bem antes do prazo estipulado.   \n",
       "f7c4243c7fe1938f181bec41a392bdeb   Parabéns lojas lannister adorei comprar pela ...   \n",
       "\n",
       "                                 score_cat  \n",
       "review_id                                   \n",
       "7bc2406110b926393aa56f80a40eba40  positive  \n",
       "80e641a11e56f04c1ad469d5645fdfde  positive  \n",
       "228ce5500dc1d8e020d8d1322874b6f0  positive  \n",
       "e64fb393e7b32834bb789ff8bb30750e  positive  \n",
       "f7c4243c7fe1938f181bec41a392bdeb  positive  "
      ]
     },
     "execution_count": 79,
     "metadata": {},
     "output_type": "execute_result"
    }
   ],
   "source": [
    "df['score_cat'] = df['review_score'].apply(score_to_categorical)\n",
    "df.head()"
   ]
  },
  {
   "cell_type": "code",
   "execution_count": 80,
   "id": "eeb333aa",
   "metadata": {},
   "outputs": [
    {
     "data": {
      "text/html": [
       "<div>\n",
       "<style scoped>\n",
       "    .dataframe tbody tr th:only-of-type {\n",
       "        vertical-align: middle;\n",
       "    }\n",
       "\n",
       "    .dataframe tbody tr th {\n",
       "        vertical-align: top;\n",
       "    }\n",
       "\n",
       "    .dataframe thead th {\n",
       "        text-align: right;\n",
       "    }\n",
       "</style>\n",
       "<table border=\"1\" class=\"dataframe\">\n",
       "  <thead>\n",
       "    <tr style=\"text-align: right;\">\n",
       "      <th></th>\n",
       "      <th>text</th>\n",
       "      <th>score_cat</th>\n",
       "    </tr>\n",
       "    <tr>\n",
       "      <th>review_id</th>\n",
       "      <th></th>\n",
       "      <th></th>\n",
       "    </tr>\n",
       "  </thead>\n",
       "  <tbody>\n",
       "    <tr>\n",
       "      <th>e64fb393e7b32834bb789ff8bb30750e</th>\n",
       "      <td>Recebi bem antes do prazo estipulado.</td>\n",
       "      <td>positive</td>\n",
       "    </tr>\n",
       "    <tr>\n",
       "      <th>f7c4243c7fe1938f181bec41a392bdeb</th>\n",
       "      <td>Parabéns lojas lannister adorei comprar pela ...</td>\n",
       "      <td>positive</td>\n",
       "    </tr>\n",
       "    <tr>\n",
       "      <th>8670d52e15e00043ae7de4c01cc2fe06</th>\n",
       "      <td>recomendo aparelho eficiente. no site a marca ...</td>\n",
       "      <td>positive</td>\n",
       "    </tr>\n",
       "    <tr>\n",
       "      <th>4b49719c8a200003f700d3d986ea1a19</th>\n",
       "      <td>Mas um pouco ,travando...pelo valor ta Boa.\\r\\n</td>\n",
       "      <td>positive</td>\n",
       "    </tr>\n",
       "    <tr>\n",
       "      <th>3948b09f7c818e2d86c9a546758b2335</th>\n",
       "      <td>Super recomendo Vendedor confiável, produto ok...</td>\n",
       "      <td>positive</td>\n",
       "    </tr>\n",
       "  </tbody>\n",
       "</table>\n",
       "</div>"
      ],
      "text/plain": [
       "                                                                               text  \\\n",
       "review_id                                                                             \n",
       "e64fb393e7b32834bb789ff8bb30750e              Recebi bem antes do prazo estipulado.   \n",
       "f7c4243c7fe1938f181bec41a392bdeb   Parabéns lojas lannister adorei comprar pela ...   \n",
       "8670d52e15e00043ae7de4c01cc2fe06  recomendo aparelho eficiente. no site a marca ...   \n",
       "4b49719c8a200003f700d3d986ea1a19    Mas um pouco ,travando...pelo valor ta Boa.\\r\\n   \n",
       "3948b09f7c818e2d86c9a546758b2335  Super recomendo Vendedor confiável, produto ok...   \n",
       "\n",
       "                                 score_cat  \n",
       "review_id                                   \n",
       "e64fb393e7b32834bb789ff8bb30750e  positive  \n",
       "f7c4243c7fe1938f181bec41a392bdeb  positive  \n",
       "8670d52e15e00043ae7de4c01cc2fe06  positive  \n",
       "4b49719c8a200003f700d3d986ea1a19  positive  \n",
       "3948b09f7c818e2d86c9a546758b2335  positive  "
      ]
     },
     "execution_count": 80,
     "metadata": {},
     "output_type": "execute_result"
    }
   ],
   "source": [
    "df_filtered = df[df['text'] != ' '][['text', 'score_cat']]\n",
    "df_filtered.head()"
   ]
  },
  {
   "cell_type": "code",
   "execution_count": 81,
   "id": "a40e12e6",
   "metadata": {},
   "outputs": [
    {
     "data": {
      "text/plain": [
       "positive    28218\n",
       "negative     9263\n",
       "neutral      6001\n",
       "Name: score_cat, dtype: int64"
      ]
     },
     "execution_count": 81,
     "metadata": {},
     "output_type": "execute_result"
    }
   ],
   "source": [
    "df_filtered['score_cat'].value_counts()"
   ]
  },
  {
   "cell_type": "markdown",
   "id": "57a5dd7c",
   "metadata": {},
   "source": [
    "Now we will remove punctuation from the text:"
   ]
  },
  {
   "cell_type": "code",
   "execution_count": 84,
   "id": "ef73f087",
   "metadata": {},
   "outputs": [
    {
     "name": "stderr",
     "output_type": "stream",
     "text": [
      "[nltk_data] Downloading package punkt to\n",
      "[nltk_data]     C:\\Users\\Данил\\AppData\\Roaming\\nltk_data...\n",
      "[nltk_data]   Package punkt is already up-to-date!\n"
     ]
    },
    {
     "data": {
      "text/plain": [
       "True"
      ]
     },
     "execution_count": 84,
     "metadata": {},
     "output_type": "execute_result"
    }
   ],
   "source": [
    "nltk.download('punkt')"
   ]
  },
  {
   "cell_type": "code",
   "execution_count": 85,
   "id": "ab3f1c69",
   "metadata": {},
   "outputs": [],
   "source": [
    "def remove_punctuation_and_special_chars(text):\n",
    "    text = ''.join([char for char in text if char not in string.punctuation])\n",
    "    text = re.sub(r'[^A-Za-zÀ-ÖØ-öø-ÿ0-9\\s]', '', text)\n",
    "    return text"
   ]
  },
  {
   "cell_type": "code",
   "execution_count": 86,
   "id": "677bca2c",
   "metadata": {},
   "outputs": [],
   "source": [
    "X = []\n",
    "for text in X_res:\n",
    "    X.append(remove_punctuation_and_special_chars(text))"
   ]
  },
  {
   "cell_type": "markdown",
   "id": "fce8b2ea",
   "metadata": {},
   "source": [
    "Let's test if everything is ok:"
   ]
  },
  {
   "cell_type": "code",
   "execution_count": 88,
   "id": "c14c8f99",
   "metadata": {},
   "outputs": [
    {
     "name": "stdout",
     "output_type": "stream",
     "text": [
      "Original text:   Recebi o prod que pedi. Não serviu pq pedi pelas medidas erradas fornecidas no site.Pedi troca por numero menor. Não me deram atenção. Pedi cancelamento. Se não for possivel fico com o prejuizo.\n",
      "\n",
      "Without punctuation:   Recebi o prod que pedi Não serviu pq pedi pelas medidas erradas fornecidas no sitePedi troca por numero menor Não me deram atenção Pedi cancelamento Se não for possivel fico com o prejuizo\n"
     ]
    }
   ],
   "source": [
    "i = 4\n",
    "print(\"Original text: \", X_res[i][0])\n",
    "print(\"\\nWithout punctuation: \", X[i])"
   ]
  },
  {
   "cell_type": "markdown",
   "id": "6acb1cc2",
   "metadata": {},
   "source": [
    "We also need to lower all the words. If we get a new message, we need to prepare it before using our model on it. So let's create a function that would do all needed for text preparing:"
   ]
  },
  {
   "cell_type": "code",
   "execution_count": 121,
   "id": "14eadf01",
   "metadata": {},
   "outputs": [],
   "source": [
    "def prepare_text(text):\n",
    "    text = str(text).lower()\n",
    "    text = ''.join([char for char in text if char not in string.punctuation])\n",
    "    text = re.sub(r'[^A-Za-z0-9\\s]', '', text)\n",
    "    #result = word_tokenize(text)\n",
    "    return text"
   ]
  },
  {
   "cell_type": "code",
   "execution_count": 91,
   "id": "35c5a33c",
   "metadata": {},
   "outputs": [
    {
     "data": {
      "text/plain": [
       "['recebi',\n",
       " 'o',\n",
       " 'prod',\n",
       " 'que',\n",
       " 'pedi',\n",
       " 'no',\n",
       " 'serviu',\n",
       " 'pq',\n",
       " 'pedi',\n",
       " 'pelas',\n",
       " 'medidas',\n",
       " 'erradas',\n",
       " 'fornecidas',\n",
       " 'no',\n",
       " 'sitepedi',\n",
       " 'troca',\n",
       " 'por',\n",
       " 'numero',\n",
       " 'menor',\n",
       " 'no',\n",
       " 'me',\n",
       " 'deram',\n",
       " 'ateno',\n",
       " 'pedi',\n",
       " 'cancelamento',\n",
       " 'se',\n",
       " 'no',\n",
       " 'for',\n",
       " 'possivel',\n",
       " 'fico',\n",
       " 'com',\n",
       " 'o',\n",
       " 'prejuizo']"
      ]
     },
     "execution_count": 91,
     "metadata": {},
     "output_type": "execute_result"
    }
   ],
   "source": [
    "prepare_text('Recebi o prod que pedi. Não serviu pq pedi pelas medidas erradas fornecidas no site.Pedi troca por numero menor. Não me deram atenção. Pedi cancelamento. Se não for possivel fico com o prejuizo.')"
   ]
  },
  {
   "cell_type": "markdown",
   "id": "b8def0af",
   "metadata": {},
   "source": [
    "After creating a preparing function we will form out dataset with the full strings and next we will preprocess it with our function and do a pipeline with vectorization and model:"
   ]
  },
  {
   "cell_type": "code",
   "execution_count": 179,
   "id": "27627fb1",
   "metadata": {},
   "outputs": [
    {
     "data": {
      "text/html": [
       "<div>\n",
       "<style scoped>\n",
       "    .dataframe tbody tr th:only-of-type {\n",
       "        vertical-align: middle;\n",
       "    }\n",
       "\n",
       "    .dataframe tbody tr th {\n",
       "        vertical-align: top;\n",
       "    }\n",
       "\n",
       "    .dataframe thead th {\n",
       "        text-align: right;\n",
       "    }\n",
       "</style>\n",
       "<table border=\"1\" class=\"dataframe\">\n",
       "  <thead>\n",
       "    <tr style=\"text-align: right;\">\n",
       "      <th></th>\n",
       "      <th>text</th>\n",
       "      <th>target</th>\n",
       "    </tr>\n",
       "    <tr>\n",
       "      <th>review_id</th>\n",
       "      <th></th>\n",
       "      <th></th>\n",
       "    </tr>\n",
       "  </thead>\n",
       "  <tbody>\n",
       "    <tr>\n",
       "      <th>e64fb393e7b32834bb789ff8bb30750e</th>\n",
       "      <td>Recebi bem antes do prazo estipulado.</td>\n",
       "      <td>positive</td>\n",
       "    </tr>\n",
       "    <tr>\n",
       "      <th>f7c4243c7fe1938f181bec41a392bdeb</th>\n",
       "      <td>Parabéns lojas lannister adorei comprar pela ...</td>\n",
       "      <td>positive</td>\n",
       "    </tr>\n",
       "    <tr>\n",
       "      <th>8670d52e15e00043ae7de4c01cc2fe06</th>\n",
       "      <td>recomendo aparelho eficiente. no site a marca ...</td>\n",
       "      <td>positive</td>\n",
       "    </tr>\n",
       "    <tr>\n",
       "      <th>4b49719c8a200003f700d3d986ea1a19</th>\n",
       "      <td>Mas um pouco ,travando...pelo valor ta Boa.\\r\\n</td>\n",
       "      <td>positive</td>\n",
       "    </tr>\n",
       "    <tr>\n",
       "      <th>3948b09f7c818e2d86c9a546758b2335</th>\n",
       "      <td>Super recomendo Vendedor confiável, produto ok...</td>\n",
       "      <td>positive</td>\n",
       "    </tr>\n",
       "  </tbody>\n",
       "</table>\n",
       "</div>"
      ],
      "text/plain": [
       "                                                                               text  \\\n",
       "review_id                                                                             \n",
       "e64fb393e7b32834bb789ff8bb30750e              Recebi bem antes do prazo estipulado.   \n",
       "f7c4243c7fe1938f181bec41a392bdeb   Parabéns lojas lannister adorei comprar pela ...   \n",
       "8670d52e15e00043ae7de4c01cc2fe06  recomendo aparelho eficiente. no site a marca ...   \n",
       "4b49719c8a200003f700d3d986ea1a19    Mas um pouco ,travando...pelo valor ta Boa.\\r\\n   \n",
       "3948b09f7c818e2d86c9a546758b2335  Super recomendo Vendedor confiável, produto ok...   \n",
       "\n",
       "                                    target  \n",
       "review_id                                   \n",
       "e64fb393e7b32834bb789ff8bb30750e  positive  \n",
       "f7c4243c7fe1938f181bec41a392bdeb  positive  \n",
       "8670d52e15e00043ae7de4c01cc2fe06  positive  \n",
       "4b49719c8a200003f700d3d986ea1a19  positive  \n",
       "3948b09f7c818e2d86c9a546758b2335  positive  "
      ]
     },
     "execution_count": 179,
     "metadata": {},
     "output_type": "execute_result"
    }
   ],
   "source": [
    "#dataset = pd.DataFrame({'text': np.squeeze(X_res), 'target': y_res})\n",
    "dataset = pd.DataFrame({'text': df_filtered['text'], 'target': df_filtered['score_cat']})\n",
    "dataset.head()"
   ]
  },
  {
   "cell_type": "code",
   "execution_count": 180,
   "id": "bcefe8dd",
   "metadata": {},
   "outputs": [],
   "source": [
    "X = [prepare_text(text) for text in list(dataset['text'])]\n",
    "\n",
    "#y = pd.get_dummies(dataset['target'])\n",
    "#classification_dict = dict(zip([0, 1, 2], y.columns))\n",
    "#y = y.to_numpy()\n",
    "\n",
    "target_to_str = dict(zip([0, 1, 2], ['negative', 'neutral', 'positive']))\n",
    "str_to_target = dict(zip(['negative', 'neutral', 'positive'], [0, 1, 2]))\n",
    "y = [str_to_target[value] for value in list(dataset['target'])]"
   ]
  },
  {
   "cell_type": "code",
   "execution_count": 181,
   "id": "847b89cf",
   "metadata": {},
   "outputs": [
    {
     "data": {
      "text/plain": [
       "' recebi bem antes do prazo estipulado'"
      ]
     },
     "execution_count": 181,
     "metadata": {},
     "output_type": "execute_result"
    }
   ],
   "source": [
    "X[0]"
   ]
  },
  {
   "cell_type": "code",
   "execution_count": 182,
   "id": "67ca9054",
   "metadata": {},
   "outputs": [
    {
     "data": {
      "text/plain": [
       "2"
      ]
     },
     "execution_count": 182,
     "metadata": {},
     "output_type": "execute_result"
    }
   ],
   "source": [
    "y[0]"
   ]
  },
  {
   "cell_type": "code",
   "execution_count": 183,
   "id": "60d38847",
   "metadata": {},
   "outputs": [],
   "source": [
    "#classification_dict.values()"
   ]
  },
  {
   "cell_type": "markdown",
   "id": "391510af",
   "metadata": {},
   "source": [
    "### Train test split"
   ]
  },
  {
   "cell_type": "code",
   "execution_count": 184,
   "id": "1f3988d9",
   "metadata": {},
   "outputs": [],
   "source": [
    "X_train, X_test, y_train, y_test = train_test_split(X, y, stratify=y, test_size=0.1, random_state=42)"
   ]
  },
  {
   "cell_type": "markdown",
   "id": "396f804d",
   "metadata": {},
   "source": [
    "# Modeling"
   ]
  },
  {
   "cell_type": "markdown",
   "id": "f6b7fd9f",
   "metadata": {},
   "source": [
    "Finally we got a dataset. Let's build our first pipeline:"
   ]
  },
  {
   "cell_type": "markdown",
   "id": "99292bac",
   "metadata": {},
   "source": [
    "### Bag of words + Logistic Regression"
   ]
  },
  {
   "cell_type": "code",
   "execution_count": 188,
   "id": "13a4d65b",
   "metadata": {},
   "outputs": [
    {
     "data": {
      "text/html": [
       "<style>#sk-container-id-4 {color: black;background-color: white;}#sk-container-id-4 pre{padding: 0;}#sk-container-id-4 div.sk-toggleable {background-color: white;}#sk-container-id-4 label.sk-toggleable__label {cursor: pointer;display: block;width: 100%;margin-bottom: 0;padding: 0.3em;box-sizing: border-box;text-align: center;}#sk-container-id-4 label.sk-toggleable__label-arrow:before {content: \"▸\";float: left;margin-right: 0.25em;color: #696969;}#sk-container-id-4 label.sk-toggleable__label-arrow:hover:before {color: black;}#sk-container-id-4 div.sk-estimator:hover label.sk-toggleable__label-arrow:before {color: black;}#sk-container-id-4 div.sk-toggleable__content {max-height: 0;max-width: 0;overflow: hidden;text-align: left;background-color: #f0f8ff;}#sk-container-id-4 div.sk-toggleable__content pre {margin: 0.2em;color: black;border-radius: 0.25em;background-color: #f0f8ff;}#sk-container-id-4 input.sk-toggleable__control:checked~div.sk-toggleable__content {max-height: 200px;max-width: 100%;overflow: auto;}#sk-container-id-4 input.sk-toggleable__control:checked~label.sk-toggleable__label-arrow:before {content: \"▾\";}#sk-container-id-4 div.sk-estimator input.sk-toggleable__control:checked~label.sk-toggleable__label {background-color: #d4ebff;}#sk-container-id-4 div.sk-label input.sk-toggleable__control:checked~label.sk-toggleable__label {background-color: #d4ebff;}#sk-container-id-4 input.sk-hidden--visually {border: 0;clip: rect(1px 1px 1px 1px);clip: rect(1px, 1px, 1px, 1px);height: 1px;margin: -1px;overflow: hidden;padding: 0;position: absolute;width: 1px;}#sk-container-id-4 div.sk-estimator {font-family: monospace;background-color: #f0f8ff;border: 1px dotted black;border-radius: 0.25em;box-sizing: border-box;margin-bottom: 0.5em;}#sk-container-id-4 div.sk-estimator:hover {background-color: #d4ebff;}#sk-container-id-4 div.sk-parallel-item::after {content: \"\";width: 100%;border-bottom: 1px solid gray;flex-grow: 1;}#sk-container-id-4 div.sk-label:hover label.sk-toggleable__label {background-color: #d4ebff;}#sk-container-id-4 div.sk-serial::before {content: \"\";position: absolute;border-left: 1px solid gray;box-sizing: border-box;top: 0;bottom: 0;left: 50%;z-index: 0;}#sk-container-id-4 div.sk-serial {display: flex;flex-direction: column;align-items: center;background-color: white;padding-right: 0.2em;padding-left: 0.2em;position: relative;}#sk-container-id-4 div.sk-item {position: relative;z-index: 1;}#sk-container-id-4 div.sk-parallel {display: flex;align-items: stretch;justify-content: center;background-color: white;position: relative;}#sk-container-id-4 div.sk-item::before, #sk-container-id-4 div.sk-parallel-item::before {content: \"\";position: absolute;border-left: 1px solid gray;box-sizing: border-box;top: 0;bottom: 0;left: 50%;z-index: -1;}#sk-container-id-4 div.sk-parallel-item {display: flex;flex-direction: column;z-index: 1;position: relative;background-color: white;}#sk-container-id-4 div.sk-parallel-item:first-child::after {align-self: flex-end;width: 50%;}#sk-container-id-4 div.sk-parallel-item:last-child::after {align-self: flex-start;width: 50%;}#sk-container-id-4 div.sk-parallel-item:only-child::after {width: 0;}#sk-container-id-4 div.sk-dashed-wrapped {border: 1px dashed gray;margin: 0 0.4em 0.5em 0.4em;box-sizing: border-box;padding-bottom: 0.4em;background-color: white;}#sk-container-id-4 div.sk-label label {font-family: monospace;font-weight: bold;display: inline-block;line-height: 1.2em;}#sk-container-id-4 div.sk-label-container {text-align: center;}#sk-container-id-4 div.sk-container {/* jupyter's `normalize.less` sets `[hidden] { display: none; }` but bootstrap.min.css set `[hidden] { display: none !important; }` so we also need the `!important` here to be able to override the default hidden behavior on the sphinx rendered scikit-learn.org. See: https://github.com/scikit-learn/scikit-learn/issues/21755 */display: inline-block !important;position: relative;}#sk-container-id-4 div.sk-text-repr-fallback {display: none;}</style><div id=\"sk-container-id-4\" class=\"sk-top-container\"><div class=\"sk-text-repr-fallback\"><pre>Pipeline(steps=[(&#x27;vectorizer&#x27;, CountVectorizer()),\n",
       "                (&#x27;model&#x27;, LogisticRegression(class_weight=&#x27;balanced&#x27;))])</pre><b>In a Jupyter environment, please rerun this cell to show the HTML representation or trust the notebook. <br />On GitHub, the HTML representation is unable to render, please try loading this page with nbviewer.org.</b></div><div class=\"sk-container\" hidden><div class=\"sk-item sk-dashed-wrapped\"><div class=\"sk-label-container\"><div class=\"sk-label sk-toggleable\"><input class=\"sk-toggleable__control sk-hidden--visually\" id=\"sk-estimator-id-10\" type=\"checkbox\" ><label for=\"sk-estimator-id-10\" class=\"sk-toggleable__label sk-toggleable__label-arrow\">Pipeline</label><div class=\"sk-toggleable__content\"><pre>Pipeline(steps=[(&#x27;vectorizer&#x27;, CountVectorizer()),\n",
       "                (&#x27;model&#x27;, LogisticRegression(class_weight=&#x27;balanced&#x27;))])</pre></div></div></div><div class=\"sk-serial\"><div class=\"sk-item\"><div class=\"sk-estimator sk-toggleable\"><input class=\"sk-toggleable__control sk-hidden--visually\" id=\"sk-estimator-id-11\" type=\"checkbox\" ><label for=\"sk-estimator-id-11\" class=\"sk-toggleable__label sk-toggleable__label-arrow\">CountVectorizer</label><div class=\"sk-toggleable__content\"><pre>CountVectorizer()</pre></div></div></div><div class=\"sk-item\"><div class=\"sk-estimator sk-toggleable\"><input class=\"sk-toggleable__control sk-hidden--visually\" id=\"sk-estimator-id-12\" type=\"checkbox\" ><label for=\"sk-estimator-id-12\" class=\"sk-toggleable__label sk-toggleable__label-arrow\">LogisticRegression</label><div class=\"sk-toggleable__content\"><pre>LogisticRegression(class_weight=&#x27;balanced&#x27;)</pre></div></div></div></div></div></div></div>"
      ],
      "text/plain": [
       "Pipeline(steps=[('vectorizer', CountVectorizer()),\n",
       "                ('model', LogisticRegression(class_weight='balanced'))])"
      ]
     },
     "execution_count": 188,
     "metadata": {},
     "output_type": "execute_result"
    }
   ],
   "source": [
    "model = Pipeline([\n",
    "    ('vectorizer', CountVectorizer()),\n",
    "    ('model', LogisticRegression(class_weight='balanced'))\n",
    "])\n",
    "model.fit(X_train, y_train)"
   ]
  },
  {
   "cell_type": "code",
   "execution_count": 189,
   "id": "589b0cff",
   "metadata": {},
   "outputs": [],
   "source": [
    "def summarize_model_perfomance(model, x_train, y_train, x_test, y_test):\n",
    "    train_predict = model.predict(x_train)\n",
    "    test_predict = model.predict(x_test)\n",
    "    \n",
    "    print(\"===================== Train: =====================\")\n",
    "    print(\"Accuracy: \", accuracy_score(y_train, train_predict))\n",
    "    print(\"Confusion matrix: \\n\", confusion_matrix(y_train, train_predict))\n",
    "    \n",
    "    print(\"\\n===================== Test: ======================\")\n",
    "    print(\"Accuracy: \", accuracy_score(y_test, test_predict))\n",
    "    print(\"Confusion matrix: \\n\", confusion_matrix(y_test, test_predict))"
   ]
  },
  {
   "cell_type": "code",
   "execution_count": 190,
   "id": "637e0724",
   "metadata": {},
   "outputs": [
    {
     "name": "stdout",
     "output_type": "stream",
     "text": [
      "===================== Train: =====================\n",
      "Accuracy:  0.8901949761071218\n",
      "Confusion matrix: \n",
      " [[ 7499   678   159]\n",
      " [  613  4069   719]\n",
      " [  577  1551 23268]]\n",
      "\n",
      "===================== Test: ======================\n",
      "Accuracy:  0.7935157507472982\n",
      "Confusion matrix: \n",
      " [[ 675  213   39]\n",
      " [ 194  254  152]\n",
      " [  81  219 2522]]\n"
     ]
    }
   ],
   "source": [
    "summarize_model_perfomance(model, X_train, y_train, X_test, y_test)"
   ]
  },
  {
   "cell_type": "markdown",
   "id": "3c469741",
   "metadata": {},
   "source": [
    "### Tf-Idf + LogisticRegression"
   ]
  },
  {
   "cell_type": "code",
   "execution_count": 191,
   "id": "5b7f7435",
   "metadata": {},
   "outputs": [
    {
     "name": "stdout",
     "output_type": "stream",
     "text": [
      "===================== Train: =====================\n",
      "Accuracy:  0.8453990238417703\n",
      "Confusion matrix: \n",
      " [[ 7261   960   115]\n",
      " [  889  3907   605]\n",
      " [  710  2771 21915]]\n",
      "\n",
      "===================== Test: ======================\n",
      "Accuracy:  0.7870774890779489\n",
      "Confusion matrix: \n",
      " [[ 707  198   22]\n",
      " [ 190  308  102]\n",
      " [  82  332 2408]]\n"
     ]
    }
   ],
   "source": [
    "model = Pipeline([\n",
    "    ('vectorizer', TfidfVectorizer()),\n",
    "    ('model', LogisticRegression(class_weight='balanced'))\n",
    "])\n",
    "model.fit(X_train, y_train)\n",
    "summarize_model_perfomance(model, X_train, y_train, X_test, y_test)"
   ]
  },
  {
   "cell_type": "markdown",
   "id": "d97b97da",
   "metadata": {},
   "source": [
    "Next we will use Tf-Idf text vectorizer, but we should choose a more serious model."
   ]
  },
  {
   "cell_type": "markdown",
   "id": "061dd7fc",
   "metadata": {},
   "source": [
    "### RandomForest"
   ]
  },
  {
   "cell_type": "code",
   "execution_count": 193,
   "id": "5dc17b3c",
   "metadata": {},
   "outputs": [
    {
     "name": "stdout",
     "output_type": "stream",
     "text": [
      "===================== Train: =====================\n",
      "Accuracy:  0.9740117036772034\n",
      "Confusion matrix: \n",
      " [[ 8257    43    36]\n",
      " [   83  5102   216]\n",
      " [   25   614 24757]]\n",
      "\n",
      "===================== Test: ======================\n",
      "Accuracy:  0.799724074499885\n",
      "Confusion matrix: \n",
      " [[ 775   39  113]\n",
      " [ 241   84  275]\n",
      " [ 119   84 2619]]\n"
     ]
    }
   ],
   "source": [
    "model = Pipeline([\n",
    "    ('vectorizer', TfidfVectorizer()),\n",
    "    ('model', RandomForestClassifier(class_weight='balanced'))\n",
    "])\n",
    "model.fit(X_train, y_train)\n",
    "summarize_model_perfomance(model, X_train, y_train, X_test, y_test)"
   ]
  },
  {
   "cell_type": "markdown",
   "id": "94b8b502",
   "metadata": {},
   "source": [
    "### LightGBM"
   ]
  },
  {
   "cell_type": "code",
   "execution_count": 213,
   "id": "758c655a",
   "metadata": {},
   "outputs": [
    {
     "name": "stdout",
     "output_type": "stream",
     "text": [
      "[LightGBM] [Info] Auto-choosing col-wise multi-threading, the overhead of testing was 0.123874 seconds.\n",
      "You can set `force_col_wise=true` to remove the overhead.\n",
      "[LightGBM] [Info] Total Bins 66423\n",
      "[LightGBM] [Info] Number of data points in the train set: 39133, number of used features: 1395\n",
      "[LightGBM] [Info] Start training from score -1.098612\n",
      "[LightGBM] [Info] Start training from score -1.098612\n",
      "[LightGBM] [Info] Start training from score -1.098612\n",
      "===================== Train: =====================\n",
      "Accuracy:  0.9671632637415991\n",
      "Confusion matrix: \n",
      " [[ 8240    43    53]\n",
      " [   90  5053   258]\n",
      " [  132   709 24555]]\n",
      "\n",
      "===================== Test: ======================\n",
      "Accuracy:  0.7942055644975856\n",
      "Confusion matrix: \n",
      " [[ 698  173   56]\n",
      " [ 197  232  171]\n",
      " [  90  208 2524]]\n"
     ]
    }
   ],
   "source": [
    "vectorizer = TfidfVectorizer().fit(X_train)\n",
    "X_train_vec = vectorizer.transform(X_train)\n",
    "X_test_vec = vectorizer.transform(X_test)\n",
    "\n",
    "lgbm = LGBMClassifier(\n",
    "    boosting_type='gbdt', learning_rate=0.3, n_estimators=500, class_weight='balanced', reg_alpha=0.0, reg_lambda=0.0, random_state=42, n_jobs=4\n",
    ").fit(X_train_vec, y_train)\n",
    "\n",
    "summarize_model_perfomance(lgbm, X_train_vec, y_train, X_test_vec, y_test)"
   ]
  },
  {
   "cell_type": "markdown",
   "id": "5c081774",
   "metadata": {},
   "source": [
    "#### The accuracy of the model is disappointing. Unfortunately, I didn't have enough time to build a high quality model for comment classification. You could also try using embeddings for text vectorization, tranformers, RNNs and other types of models, with which the result would surely be better."
   ]
  },
  {
   "cell_type": "markdown",
   "id": "b19bb461",
   "metadata": {},
   "source": [
    "# Testing system"
   ]
  },
  {
   "cell_type": "code",
   "execution_count": 225,
   "id": "2cbaac38",
   "metadata": {},
   "outputs": [
    {
     "name": "stdout",
     "output_type": "stream",
     "text": [
      "English sentence: everything is super, I really liked the product, the order was delivered on time!\n",
      "Portuguese sentence: O produto é muito bom, gostei muito, a encomenda foi entregue dentro do prazo!\n",
      "Predicted label: positive \n",
      "\n",
      "English sentence: It's horrible! Just awful! I've been waiting a month for the product!\n",
      "Portuguese sentence: O horror! É horrível! Estou há um mês à espera da mercadoria!\n",
      "Predicted label: negative \n",
      "\n"
     ]
    }
   ],
   "source": [
    "sents = [\n",
    "    ['everything is super, I really liked the product, the order was delivered on time!',\n",
    "    'O produto é muito bom, gostei muito, a encomenda foi entregue dentro do prazo!'], \n",
    "    [\"It's horrible! Just awful! I've been waiting a month for the product!\", \n",
    "    'O horror! É horrível! Estou há um mês à espera da mercadoria!']]\n",
    "\n",
    "for sent_eng, sent_port in sents:\n",
    "    sent = prepare_text(sent_port)\n",
    "    print(\"English sentence:\", sent_eng)\n",
    "    print(\"Portuguese sentence:\", sent_port)\n",
    "    print(\"Predicted label:\", target_to_str[lgbm.predict(vectorizer.transform([sent]))[0]], \"\\n\")"
   ]
  },
  {
   "cell_type": "markdown",
   "id": "9a27bdf5",
   "metadata": {},
   "source": [
    "Predictions on these sentences are correct. But of course this model has problems with recognizing the nuance of a comment, and it is unlikely that this model will not understand the difference between 'good' and 'not good'. It is worth using recursive networks for this purpose, as well as a more meaningful representation of text in the form of word or sentence embeddings. In any case, let's continue this way, since there is not much time left."
   ]
  },
  {
   "cell_type": "code",
   "execution_count": 227,
   "id": "bdb8953b",
   "metadata": {},
   "outputs": [
    {
     "name": "stdout",
     "output_type": "stream",
     "text": [
      "Enter a portuguese sentence: Bem, esse é o tipo de coisa\n",
      "Model predict: neutral\n"
     ]
    }
   ],
   "source": [
    "sentence = input(\"Enter a portuguese sentence: \")\n",
    "sentence = prepare_text(sentence)\n",
    "print(\"Model predict:\", target_to_str[lgbm.predict(vectorizer.transform([sentence]))[0]])"
   ]
  },
  {
   "cell_type": "markdown",
   "id": "582cf5b1",
   "metadata": {},
   "source": [
    "# Conclusions"
   ]
  },
  {
   "cell_type": "markdown",
   "id": "4f453dbb",
   "metadata": {},
   "source": [
    "In this block, we built a molel to categorize comments into positive, negative, and neutral. It turned out quite well, but it could have been better if we had more time."
   ]
  }
 ],
 "metadata": {
  "kernelspec": {
   "display_name": "Python 3 (ipykernel)",
   "language": "python",
   "name": "python3"
  },
  "language_info": {
   "codemirror_mode": {
    "name": "ipython",
    "version": 3
   },
   "file_extension": ".py",
   "mimetype": "text/x-python",
   "name": "python",
   "nbconvert_exporter": "python",
   "pygments_lexer": "ipython3",
   "version": "3.10.9"
  }
 },
 "nbformat": 4,
 "nbformat_minor": 5
}
